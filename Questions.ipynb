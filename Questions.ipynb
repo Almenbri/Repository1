{
  "nbformat": 4,
  "nbformat_minor": 0,
  "metadata": {
    "colab": {
      "provenance": [],
      "authorship_tag": "ABX9TyMG5biueX+ZV+PpSpjIznbq",
      "include_colab_link": true
    },
    "kernelspec": {
      "name": "python3",
      "display_name": "Python 3"
    },
    "language_info": {
      "name": "python"
    }
  },
  "cells": [
    {
      "cell_type": "markdown",
      "metadata": {
        "id": "view-in-github",
        "colab_type": "text"
      },
      "source": [
        "<a href=\"https://colab.research.google.com/github/Almenbri/Repository1/blob/master/Questions.ipynb\" target=\"_parent\"><img src=\"https://colab.research.google.com/assets/colab-badge.svg\" alt=\"Open In Colab\"/></a>"
      ]
    },
    {
      "cell_type": "code",
      "execution_count": 11,
      "metadata": {
        "colab": {
          "base_uri": "https://localhost:8080/"
        },
        "id": "f6w9R5TjmT4M",
        "outputId": "34ec7a87-7992-4314-ecc1-c81f9feb4565"
      },
      "outputs": [
        {
          "output_type": "stream",
          "name": "stdout",
          "text": [
            "************************\n",
            "** A Simple Math Quiz **\n",
            "************************\n",
            "1. Addition\n",
            "2. Subtraction\n",
            "3. Multiplication\n",
            "4. Integer Division\n",
            "5. Exit\n",
            "------------------------\n",
            "Enter your choice : 1\n",
            "enter your answer : \n",
            "7 + 11 = 18\n",
            "Correct.\n",
            "Enter your choice : 2\n",
            "enter your answer : \n",
            "4 - 11 = 15\n",
            "Wrong.\n",
            "Enter your choice : 5\n",
            "Wrong choice.\n",
            "Total Answers: 2\n",
            "Correct Answers: 1\n"
          ]
        }
      ],
      "source": [
        "import random\n",
        "x=-1\n",
        "total = 0\n",
        "correct_answers = 0\n",
        "while x!=5:\n",
        "\n",
        "  # Intro\n",
        "  print('*'*24)\n",
        "  print('** A Simple Math Quiz **')\n",
        "  print('*'*24)\n",
        "  print('1. Addition')\n",
        "  print('2. Subtraction')\n",
        "  print('3. Multiplication')\n",
        "  print('4. Integer Division')\n",
        "  print('5. Exit')\n",
        "  print('-'*24)\n",
        "\n",
        "  n1=random.randint (1,11)\n",
        "  n2=random.randint (1,11)\n",
        "  x=int(input('Enter your choice : '))\n",
        "  if x != 5 and x > 0 and x < 5: total += 1\n",
        "  if(x==1):\n",
        "    print('enter your answer : ')\n",
        "    ans=int(input(str(n1)+' + '+str(n2)+' = '))\n",
        "    n3=n1+n2\n",
        "    if(n3==ans):\n",
        "      print('Correct.')\n",
        "      correct_answers += 1\n",
        "    else:\n",
        "      print('Wrong.')\n",
        "  elif(x==2):\n",
        "    print('enter your answer : ')\n",
        "    ans=int(input(str(n1)+' - '+str(n2)+' = '))\n",
        "    n3=n1-n2\n",
        "    if(n3==ans):\n",
        "      print('Correct.')\n",
        "      correct_answers += 1\n",
        "    else:\n",
        "      print('Wrong.')\n",
        "\n",
        "  elif(x==3):\n",
        "    print('enter your answer : ')\n",
        "    ans=int(input(str(n1)+' * '+str(n2)+' = '))\n",
        "    n3=n1*n2\n",
        "    if(n3==ans):\n",
        "      print('Correct.')\n",
        "      correct_answers += 1\n",
        "    else:\n",
        "      print('Wrong.')\n",
        "\n",
        "  elif(x==4):\n",
        "    print('enter your answer : ')\n",
        "    ans=int(input(str(n1)+' / '+str(n2)+' = '))\n",
        "    n3=n1//n2\n",
        "    if(n3==ans):\n",
        "      print('Correct.')\n",
        "      correct_answers += 1\n",
        "    elif x >5 or x <= 0:\n",
        "      print('Wrong.')\n",
        "  else:\n",
        "    print('Wrong choice.')\n",
        "\n",
        "print(\"Total Answers:\", total)\n",
        "print(\"Correct Answers:\", correct_answers)\n",
        ""
      ]
    }
  ]
}
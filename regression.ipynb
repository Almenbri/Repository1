{
  "nbformat": 4,
  "nbformat_minor": 0,
  "metadata": {
    "colab": {
      "provenance": []
    },
    "kernelspec": {
      "name": "python3",
      "display_name": "Python 3"
    },
    "language_info": {
      "name": "python"
    }
  },
  "cells": [
    {
      "cell_type": "code",
      "execution_count": null,
      "metadata": {
        "id": "gJJoBD4_-scE"
      },
      "outputs": [],
      "source": [
        "# Fill in the code where needed\n",
        "import random\n",
        "import math\n",
        "import numpy as np\n",
        "import matplotlib.pyplot as plt\n",
        "from sklearn.metrics import mean_squared_error\n",
        "from sklearn.neighbors import KNeighborsRegressor\n",
        "random.seed(123)\n",
        "def getData(N):\n",
        "  x,y =[],[]\n",
        "  for i in range(N):\n",
        "    a = i/10+random.uniform(-1,1)\n",
        "    yy =math.sin(a)+3+random.uniform(-1,1)\n",
        "    x.append([a])\n",
        "    y.append([yy])\n",
        "  return np.array(x), np.array(y)\n",
        "x,y=getData(200)\n",
        "model = KNeighborsRegressor(n_neighbors=8)\n",
        "print(model)\n",
        "# Fit the model and predict the score as well as print it\n",
        "##\n",
        "Your CODE HERE\n",
        "##\n",
        "##\n",
        "Your CODE ends\n",
        "##\n",
        "mse =mean_squared_error(y, pred_y)\n",
        "print(\"Mean Squared Error:\",mse)\n",
        "rmse = math.sqrt(mse)\n",
        "print(\"Root Mean Squared Error:\", rmse)\n",
        "x_ax=range(200)\n",
        "plt.scatter(x_ax, y, s=5, color=\"blue\", label=\"original\")\n",
        "plt.plot(x_ax, pred_y, lw=1.5, color=\"red\", label=\"predicted\")\n",
        "plt.legend()"
      ]
    }
  ]
}
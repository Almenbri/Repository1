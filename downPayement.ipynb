{
  "nbformat": 4,
  "nbformat_minor": 0,
  "metadata": {
    "colab": {
      "provenance": [],
      "name": "downPayement.ipynb",
      "authorship_tag": "ABX9TyOkXh1NxKaVS4pasiTs49zu",
      "include_colab_link": true
    },
    "kernelspec": {
      "name": "python3",
      "display_name": "Python 3"
    },
    "language_info": {
      "name": "python"
    }
  },
  "cells": [
    {
      "cell_type": "markdown",
      "metadata": {
        "id": "view-in-github",
        "colab_type": "text"
      },
      "source": [
        "<a href=\"https://colab.research.google.com/github/Almenbri/Repository1/blob/master/downPayement.ipynb\" target=\"_parent\"><img src=\"https://colab.research.google.com/assets/colab-badge.svg\" alt=\"Open In Colab\"/></a>"
      ]
    },
    {
      "cell_type": "code",
      "execution_count": null,
      "metadata": {
        "id": "iKo9A7vpJ7AS"
      },
      "outputs": [],
      "source": [
        "annual_salary = float(input(\"Enter your annual salary: \"))\n",
        "percentage = float(input(\"Enter the percentage of your salary savings: \"))\n",
        "house_cost = float(input(\"Enter your dream hose down cost: \"))\n",
        "\n",
        "monthly_salary = annual_salary / 12\n",
        "down_cost = house_cost * 0.25\n",
        "current_savings = 0\n",
        "percentage_salary = monthly_salary * percentage / 12\n",
        "months = 0\n",
        "\n",
        "while down_cost > current_savings:\n",
        "  months += 1\n",
        "  current_savings += (current_savings * 0.04) + percentage_salary\n",
        "  print\n",
        "\n",
        "print(\"Months:\", months)"
      ]
    }
  ]
}
{
  "nbformat": 4,
  "nbformat_minor": 0,
  "metadata": {
    "colab": {
      "provenance": [],
      "authorship_tag": "ABX9TyPvJzlNKs7c4a9pJ5GBY9Bk",
      "include_colab_link": true
    },
    "kernelspec": {
      "name": "python3",
      "display_name": "Python 3"
    },
    "language_info": {
      "name": "python"
    }
  },
  "cells": [
    {
      "cell_type": "markdown",
      "metadata": {
        "id": "view-in-github",
        "colab_type": "text"
      },
      "source": [
        "<a href=\"https://colab.research.google.com/github/Almenbri/Repository1/blob/master/downPayement.ipynb\" target=\"_parent\"><img src=\"https://colab.research.google.com/assets/colab-badge.svg\" alt=\"Open In Colab\"/></a>"
      ]
    },
    {
      "cell_type": "code",
      "execution_count": 2,
      "metadata": {
        "colab": {
          "base_uri": "https://localhost:8080/"
        },
        "id": "iKo9A7vpJ7AS",
        "outputId": "d58d41dc-fd5d-4684-c500-ae91ff0428fd"
      },
      "outputs": [
        {
          "output_type": "stream",
          "name": "stdout",
          "text": [
            "Enter your annual salary: 120000\n",
            "Enter the percentage of your salary savings: 0.1\n",
            "Enter your dream hose down cost: 1000000\n",
            "Months: 183\n"
          ]
        }
      ],
      "source": [
        "annual_salary = float(input(\"Enter your annual salary: \"))\n",
        "percentage = float(input(\"Enter the percentage of your salary savings: \"))\n",
        "house_cost = float(input(\"Enter your dream hose down cost: \"))\n",
        "\n",
        "monthly_salary = annual_salary / 12\n",
        "down_cost = house_cost * 0.25\n",
        "current_savings = 0\n",
        "percentage_salary = monthly_salary * percentage\n",
        "months = 0\n",
        "\n",
        "while down_cost > current_savings:\n",
        "  months += 1\n",
        "  current_savings += (current_savings * 0.04/12) + percentage_salary\n",
        "  print\n",
        "\n",
        "print(\"Months:\", months)"
      ]
    }
  ]
}
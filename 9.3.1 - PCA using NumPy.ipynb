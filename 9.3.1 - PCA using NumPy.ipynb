{
  "nbformat": 4,
  "nbformat_minor": 0,
  "metadata": {
    "colab": {
      "name": "9.3.1 - PCA using NumPy.ipynb",
      "provenance": []
    },
    "kernelspec": {
      "name": "python3",
      "display_name": "Python 3"
    },
    "language_info": {
      "name": "python"
    }
  },
  "cells": [
    {
      "cell_type": "code",
      "execution_count": 1,
      "metadata": {
        "id": "5yCqh9puK7o_"
      },
      "outputs": [],
      "source": [
        "import numpy as np\n",
        "import pandas as pd\n",
        "import matplotlib.pyplot as plt"
      ]
    },
    {
      "cell_type": "code",
      "source": [
        "def calculate_pca(X , n):\n",
        "    # standardize the mean to 0\n",
        "    X_mean = X - np.mean(X , axis = 0)\n",
        "     \n",
        "    # generate the covariance matrix\n",
        "    covariance_matrix = np.cov(X_mean, rowvar = False)\n",
        "     \n",
        "    # compute the eigen computations\n",
        "    eigenvalues , eigenvectors = np.linalg.eigh(covariance_matrix)\n",
        "     \n",
        "    # sort n eigenvectors by descending order of corresponding eigenvalues\n",
        "    sorted_index = np.argsort(eigenvalues)[::-1]\n",
        "    sorted_eigenvalue = eigenvalues[sorted_index]\n",
        "    eigenvectors = eigenvectors[:,sorted_index]\n",
        "    eigenvectors = eigenvectors[:,0:n]\n",
        "     \n",
        "    # transorm data to the principal components\n",
        "    X_reduced = np.dot(eigenvectors.transpose() , X_mean.transpose() ).transpose()\n",
        "     \n",
        "    return X_reduced"
      ],
      "metadata": {
        "id": "pmNhPYl2LBIU"
      },
      "execution_count": 2,
      "outputs": []
    },
    {
      "cell_type": "code",
      "source": [
        "# prepare IRIS dataset\n",
        "url = \"https://archive.ics.uci.edu/ml/machine-learning-databases/iris/iris.data\"\n",
        "data = pd.read_csv(url, names=['sepal length','sepal width','petal length','petal width','target'])\n",
        "X = data.iloc[:,0:4]\n",
        " \n",
        "# extract labels\n",
        "labels = np.array(data.iloc[:,4])\n",
        "\n",
        "principal_components = calculate_pca(X , 2).T"
      ],
      "metadata": {
        "id": "co1AO-ofLB2G"
      },
      "execution_count": 3,
      "outputs": []
    },
    {
      "cell_type": "code",
      "source": [
        "colours = {'Iris-setosa': 'red', 'Iris-versicolor': 'blue', 'Iris-virginica': 'green'}\n",
        "\n",
        "fig, ax = plt.subplots()\n",
        "for g in np.unique(labels):\n",
        "    ix = np.where(labels == g)\n",
        "    ax.scatter(principal_components[0][ix], principal_components[1][ix], c = colours[g], label = g, s = 20)\n",
        "ax.legend()\n",
        "plt.show()"
      ],
      "metadata": {
        "colab": {
          "base_uri": "https://localhost:8080/",
          "height": 269
        },
        "id": "ev3tagBdms3f",
        "outputId": "61086f48-0647-456b-fa4a-4029c84121bb"
      },
      "execution_count": 4,
      "outputs": [
        {
          "output_type": "display_data",
          "data": {
            "text/plain": [
              "<Figure size 432x288 with 1 Axes>"
            ],
            "image/png": "[encoded data removed]"
          },
          "metadata": {
            "needs_background": "light"
          }
        }
      ]
    },
    {
      "cell_type": "code",
      "source": [
        ""
      ],
      "metadata": {
        "id": "p3gB3uTmLSV7"
      },
      "execution_count": null,
      "outputs": []
    }
  ]
}